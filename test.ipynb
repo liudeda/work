{
 "cells": [
  {
   "cell_type": "code",
   "execution_count": null,
   "metadata": {
    "vscode": {
     "languageId": "cpp"
    }
   },
   "outputs": [],
   "source": [
    "#include <iostream>\n",
    "#include <string>\n",
    "\n",
    "class Person\n",
    "{\n",
    "private:\n",
    "    std::string name_;\n",
    "    int age_;\n",
    "    double height_;\n",
    "\n",
    "public:\n",
    "    Person(const std::string &name, int age, double height);\n",
    "    ~Person();\n",
    "    void print_info();\n",
    "};\n",
    "\n",
    "Person::Person(const std::string &name, int age, double height) : name_(name), age_(age), height_(height)\n",
    "{\n",
    "    // name_ = name;\n",
    "    // age_ = age;\n",
    "    // height_ = height;\n",
    "    // std::cout << \"Person()\" << std::endl;\n",
    "}\n",
    "Person::~Person()\n",
    "{\n",
    "    std::cout << \"~Person()\" << std::endl;\n",
    "}\n",
    "void Person::print_info()\n",
    "{\n",
    "    std::cout << \"name: \" << name_ << std::endl;\n",
    "    std::cout << \"age: \" << age_ << std::endl;\n",
    "    std::cout << \"height: \" << height_ << std::endl;\n",
    "}\n",
    "int main()\n",
    "{\n",
    "    std::cout << \"Hello World!\" << std::endl;\n",
    "    Person p1(\"zhangsan\", 20, 180.0);\n",
    "    p1.print_info();\n",
    "    return 0;\n",
    "}\n"
   ]
  },
  {
   "cell_type": "code",
   "execution_count": null,
   "metadata": {
    "vscode": {
     "languageId": "cpp"
    }
   },
   "outputs": [],
   "source": []
  },
  {
   "cell_type": "markdown",
   "metadata": {},
   "source": []
  }
 ],
 "metadata": {
  "language_info": {
   "name": "python"
  }
 },
 "nbformat": 4,
 "nbformat_minor": 2
}
